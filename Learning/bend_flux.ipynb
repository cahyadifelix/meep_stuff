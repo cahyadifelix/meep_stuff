{
 "cells": [
  {
   "cell_type": "code",
   "execution_count": 1,
   "metadata": {},
   "outputs": [],
   "source": [
    "import meep as mp\n",
    "import numpy as np\n",
    "import matplotlib.pyplot as plt"
   ]
  },
  {
   "cell_type": "code",
   "execution_count": 3,
   "metadata": {},
   "outputs": [],
   "source": [
    "# set up resolution\n",
    "resolution = 10 # pixels/um\n",
    "\n",
    "# Define cell size\n",
    "sx = 16\n",
    "sy = 32\n",
    "cell = mp.Vector3(sx,sy,0)\n",
    "\n",
    "# Define PML\n",
    "dpml = 1.0\n",
    "pml_layers = [mp.PML(dpml)]"
   ]
  },
  {
   "cell_type": "code",
   "execution_count": 5,
   "metadata": {},
   "outputs": [],
   "source": [
    "# define padding\n",
    "pad = 4 # Padding between waveguide and edge\n",
    "w = 1 # Waveguide width\n",
    "\n",
    "# define waveguide centers\n",
    "wvg_xcen = 0.5*(sx -w - 2*pad)\n",
    "wvg_ycen = 0.5*(sy -w - 2*pad)\n",
    "\n",
    "# define geometry\n",
    "geometry = [mp.Block(size = mp.Vector3(mp.inf, w, mp.inf),\n",
    "                     center = mp.Vector3(0,wvg_ycen,0),\n",
    "                     material = mp.Medium(epsilon = 12))]"
   ]
  },
  {
   "cell_type": "code",
   "execution_count": 8,
   "metadata": {},
   "outputs": [],
   "source": [
    "# define sources\n",
    "fcen = 0.15\n",
    "df = 0.1 # pulse width\n",
    "sources = [mp.Source(mp.GaussianSource(fcen,fwidth=df),\n",
    "                     component=mp.Ez,\n",
    "                     center = mp.Vector3(-0.5*sx+dpml, wvg_ycen ,0),\n",
    "                     size = mp.Vector3(0,w,0))]"
   ]
  },
  {
   "cell_type": "code",
   "execution_count": 9,
   "metadata": {},
   "outputs": [],
   "source": [
    "# define simulation\n",
    "sim = mp.Simulation(cell_size=cell,\n",
    "                    resolution=resolution,\n",
    "                    geometry=geometry,\n",
    "                    sources=sources,\n",
    "                    boundary_layers=pml_layers)\n",
    "\n",
    "nfreq = 100 # number of frequencies to compute flux\n",
    "\n",
    "# reflected flux\n",
    "refl_fr = mp.FluxRegion(center=mp.Vector3(-0.5*sx+dpml + 0.5, wvg_ycen,0),\n",
    "                        size = mp.Vector3(0,2*w,0))\n",
    "refl = sim.add_flux(fcen, df, nfreq, refl_fr)\n",
    "\n",
    "# transmitted flux\n",
    "tran_fr = mp.FluxRegion(center = mp.Vector3(0.5*sx - dpml, wvg_ycen, 0), size = mp.Vector3(0, 2*w,0))\n",
    "tran = sim.add_flux(fcen, df, nfreq, tran_fr)"
   ]
  },
  {
   "cell_type": "code",
   "execution_count": null,
   "metadata": {},
   "outputs": [],
   "source": []
  }
 ],
 "metadata": {
  "kernelspec": {
   "display_name": "meep_lab",
   "language": "python",
   "name": "python3"
  },
  "language_info": {
   "codemirror_mode": {
    "name": "ipython",
    "version": 3
   },
   "file_extension": ".py",
   "mimetype": "text/x-python",
   "name": "python",
   "nbconvert_exporter": "python",
   "pygments_lexer": "ipython3",
   "version": "3.1.0"
  }
 },
 "nbformat": 4,
 "nbformat_minor": 2
}
