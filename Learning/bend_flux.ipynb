{
 "cells": [
  {
   "cell_type": "code",
   "execution_count": 12,
   "metadata": {},
   "outputs": [],
   "source": [
    "import meep as mp\n",
    "import numpy as np\n",
    "import matplotlib.pyplot as plt"
   ]
  },
  {
   "cell_type": "code",
   "execution_count": 13,
   "metadata": {},
   "outputs": [],
   "source": [
    "# set up resolution\n",
    "resolution = 10 # pixels/um\n",
    "\n",
    "# Define cell size\n",
    "sx = 16\n",
    "sy = 32\n",
    "cell = mp.Vector3(sx,sy,0)\n",
    "\n",
    "# Define PML\n",
    "dpml = 1.0\n",
    "pml_layers = [mp.PML(dpml)]"
   ]
  },
  {
   "cell_type": "code",
   "execution_count": 14,
   "metadata": {},
   "outputs": [],
   "source": [
    "# define padding\n",
    "pad = 4 # Padding between waveguide and edge\n",
    "w = 1 # Waveguide width\n",
    "\n",
    "# define waveguide centers\n",
    "wvg_xcen = 0.5*(sx -w - 2*pad)\n",
    "wvg_ycen = 0.5*(sy -w - 2*pad)\n",
    "\n",
    "# define geometry\n",
    "geometry = [mp.Block(size = mp.Vector3(mp.inf, w, mp.inf),\n",
    "                     center = mp.Vector3(0,wvg_ycen,0),\n",
    "                     material = mp.Medium(epsilon = 12))]"
   ]
  },
  {
   "cell_type": "code",
   "execution_count": 15,
   "metadata": {},
   "outputs": [],
   "source": [
    "# define sources\n",
    "fcen = 0.15\n",
    "df = 0.1 # pulse width\n",
    "sources = [mp.Source(mp.GaussianSource(fcen,fwidth=df),\n",
    "                     component=mp.Ez,\n",
    "                     center = mp.Vector3(-0.5*sx+dpml, wvg_ycen ,0),\n",
    "                     size = mp.Vector3(0,w,0))]"
   ]
  },
  {
   "cell_type": "code",
   "execution_count": 16,
   "metadata": {},
   "outputs": [],
   "source": [
    "# define simulation\n",
    "sim = mp.Simulation(cell_size=cell,\n",
    "                    resolution=resolution,\n",
    "                    geometry=geometry,\n",
    "                    sources=sources,\n",
    "                    boundary_layers=pml_layers)\n",
    "\n",
    "nfreq = 100 # number of frequencies to compute flux\n",
    "\n",
    "# reflected flux\n",
    "refl_fr = mp.FluxRegion(center=mp.Vector3(-0.5*sx+dpml + 0.5, wvg_ycen,0),\n",
    "                        size = mp.Vector3(0,2*w,0))\n",
    "refl = sim.add_flux(fcen, df, nfreq, refl_fr)\n",
    "\n",
    "# transmitted flux\n",
    "tran_fr = mp.FluxRegion(center = mp.Vector3(0.5*sx - dpml, wvg_ycen, 0), size = mp.Vector3(0, 2*w,0))\n",
    "tran = sim.add_flux(fcen, df, nfreq, tran_fr)"
   ]
  },
  {
   "cell_type": "code",
   "execution_count": 17,
   "metadata": {},
   "outputs": [
    {
     "name": "stdout",
     "output_type": "stream",
     "text": [
      "     block, center = (0,11.5,0)\n",
      "          size (1e+20,1,1e+20)\n",
      "          axes (1,0,0), (0,1,0), (0,0,1)\n",
      "          dielectric constant epsilon diagonal = (12,12,12)\n"
     ]
    },
    {
     "data": {
      "image/png": "[encoded data removed]",
      "text/plain": [
       "<Figure size 640x480 with 1 Axes>"
      ]
     },
     "metadata": {},
     "output_type": "display_data"
    }
   ],
   "source": [
    "sim.plot2D()\n",
    "plt.show()"
   ]
  },
  {
   "cell_type": "code",
   "execution_count": 18,
   "metadata": {},
   "outputs": [
    {
     "name": "stdout",
     "output_type": "stream",
     "text": [
      "-----------\n",
      "Initializing structure...\n",
      "time for choose_chunkdivision = 0.000226974 s\n",
      "Working in 2D dimensions.\n",
      "Computational cell is 16 x 32 x 0 with resolution 10\n",
      "     block, center = (0,11.5,0)\n",
      "          size (1e+20,1,1e+20)\n",
      "          axes (1,0,0), (0,1,0), (0,0,1)\n",
      "          dielectric constant epsilon diagonal = (12,12,12)\n",
      "time for set_epsilon = 0.105245 s\n",
      "-----------\n",
      "field decay(t = 50.050000000000004): 4.825189380557793e-09 / 4.825189380557793e-09 = 1.0\n",
      "field decay(t = 100.05000000000001): 0.02880180987942579 / 0.02880180987942579 = 1.0\n",
      "field decay(t = 150.1): 0.026893465093385745 / 0.02880180987942579 = 0.93374219210428\n",
      "field decay(t = 200.15): 2.315839732232652e-13 / 0.02880180987942579 = 8.040604885344178e-12\n",
      "run 0 finished at t = 200.15 (4003 timesteps)\n"
     ]
    }
   ],
   "source": [
    "pt = mp.Vector3(0.5*sx-dpml-0.5,wvg_ycen)\n",
    "\n",
    "#sim.use_output_directory(\"bend_flux-out\")\n",
    "sim.run(until_after_sources=mp.stop_when_fields_decayed(50,mp.Ez,pt,1e-3))\n",
    "\n",
    "# for normalization run, save flux fields data for reflection plane\n",
    "straight_refl_data = sim.get_flux_data(refl)"
   ]
  },
  {
   "cell_type": "code",
   "execution_count": 19,
   "metadata": {},
   "outputs": [],
   "source": [
    "# save incident power for transmission plane\n",
    "straight_tran_flux = mp.get_fluxes(tran)"
   ]
  },
  {
   "cell_type": "code",
   "execution_count": 20,
   "metadata": {},
   "outputs": [
    {
     "name": "stdout",
     "output_type": "stream",
     "text": [
      "-----------\n",
      "Initializing structure...\n",
      "time for choose_chunkdivision = 0.000267029 s\n",
      "Working in 2D dimensions.\n",
      "Computational cell is 16 x 32 x 0 with resolution 10\n",
      "     block, center = (-2,11.5,0)\n",
      "          size (12,1,1e+20)\n",
      "          axes (1,0,0), (0,1,0), (0,0,1)\n",
      "          dielectric constant epsilon diagonal = (12,12,12)\n",
      "     block, center = (3.5,-2,0)\n",
      "          size (1,28,1e+20)\n",
      "          axes (1,0,0), (0,1,0), (0,0,1)\n",
      "          dielectric constant epsilon diagonal = (12,12,12)\n",
      "time for set_epsilon = 0.0916841 s\n",
      "-----------\n",
      "     block, center = (-2,11.5,0)\n",
      "          size (12,1,1e+20)\n",
      "          axes (1,0,0), (0,1,0), (0,0,1)\n",
      "          dielectric constant epsilon diagonal = (12,12,12)\n",
      "     block, center = (3.5,-2,0)\n",
      "          size (1,28,1e+20)\n",
      "          axes (1,0,0), (0,1,0), (0,0,1)\n",
      "          dielectric constant epsilon diagonal = (12,12,12)\n"
     ]
    },
    {
     "data": {
      "text/plain": [
       "[]"
      ]
     },
     "execution_count": 20,
     "metadata": {},
     "output_type": "execute_result"
    },
    {
     "data": {
      "image/png": "[encoded data removed]",
      "text/plain": [
       "<Figure size 640x480 with 1 Axes>"
      ]
     },
     "metadata": {},
     "output_type": "display_data"
    }
   ],
   "source": [
    "sim.reset_meep()\n",
    "\n",
    "geometry = [mp.Block(mp.Vector3(sx-pad,w,mp.inf), center=mp.Vector3(-0.5*pad,wvg_ycen), material=mp.Medium(epsilon=12)),\n",
    "            mp.Block(mp.Vector3(w,sy-pad,mp.inf), center=mp.Vector3(wvg_xcen,-0.5*pad), material=mp.Medium(epsilon=12))]\n",
    "\n",
    "sim = mp.Simulation(cell_size=cell,\n",
    "                    boundary_layers=pml_layers,\n",
    "                    geometry=geometry,\n",
    "                    sources=sources,\n",
    "                    resolution=resolution)\n",
    "\n",
    "# reflected flux\n",
    "refl = sim.add_flux(fcen, df, nfreq, refl_fr)\n",
    "\n",
    "tran_fr = mp.FluxRegion(center=mp.Vector3(wvg_xcen,(-0.5*sy+dpml+0.5),0), size=mp.Vector3(2*w,0,0), direction = mp.Y)\n",
    "tran = sim.add_flux(fcen, df, nfreq, tran_fr)\n",
    "\n",
    "# for normal run, load negated fields to subtract incident from refl. fields\n",
    "sim.load_minus_flux_data(refl, straight_refl_data)\n",
    "\n",
    "pt = mp.Vector3(wvg_xcen,-0.5*sy+dpml+0.5)\n",
    "\n",
    "sim.plot2D()\n",
    "plt.plot()\n"
   ]
  },
  {
   "cell_type": "code",
   "execution_count": 21,
   "metadata": {},
   "outputs": [
    {
     "name": "stdout",
     "output_type": "stream",
     "text": [
      "field decay(t = 50.050000000000004): 1.697652269444898e-10 / 1.697652269444898e-10 = 1.0\n",
      "field decay(t = 100.05000000000001): 4.691071063910565e-07 / 4.691071063910565e-07 = 1.0\n",
      "field decay(t = 150.1): 2.992872733686373e-07 / 4.691071063910565e-07 = 0.6379934758846859\n",
      "field decay(t = 200.15): 0.00392781356527229 / 0.00392781356527229 = 1.0\n",
      "field decay(t = 250.20000000000002): 0.0001500908193907398 / 0.00392781356527229 = 0.038212307406279594\n",
      "field decay(t = 300.2): 8.806226395662631e-11 / 0.00392781356527229 = 2.242017409767806e-08\n",
      "run 0 finished at t = 300.2 (6004 timesteps)\n"
     ]
    }
   ],
   "source": [
    "sim.run(until_after_sources=mp.stop_when_fields_decayed(50, mp.Ez, pt, 1e-3))\n",
    "\n",
    "bend_refl_flux = mp.get_fluxes(refl)\n",
    "bend_tran_flux = mp.get_fluxes(tran)\n",
    "\n",
    "flux_freqs = mp.get_flux_freqs(refl)"
   ]
  },
  {
   "cell_type": "code",
   "execution_count": 22,
   "metadata": {},
   "outputs": [
    {
     "data": {
      "image/png": "[encoded data removed]",
      "text/plain": [
       "<Figure size 640x480 with 1 Axes>"
      ]
     },
     "metadata": {},
     "output_type": "display_data"
    }
   ],
   "source": [
    "wl = []\n",
    "Rs = []\n",
    "Ts = []\n",
    "for i in range(nfreq):\n",
    "    wl = np.append(wl, 1/flux_freqs[i])\n",
    "    Rs = np.append(Rs,-bend_refl_flux[i]/straight_tran_flux[i])\n",
    "    Ts = np.append(Ts,-bend_tran_flux[i]/straight_tran_flux[i])\n",
    "\n",
    "if mp.am_master():\n",
    "    plt.figure()\n",
    "    plt.plot(wl,Rs,'bo-',label='reflectance')\n",
    "    plt.plot(wl,Ts,'ro-',label='transmittance')\n",
    "    plt.plot(wl,1-Rs-Ts,'go-',label='loss')\n",
    "    plt.axis([5.0, 10.0, 0, 1])\n",
    "    plt.xlabel(\"wavelength (μm)\")\n",
    "    plt.legend(loc=\"upper right\")\n",
    "    plt.show()"
   ]
  },
  {
   "cell_type": "markdown",
   "metadata": {},
   "source": [
    "This is the same graph as what we acquired from the example, the changes are in the definition of the bent waveguide and the transmission flux, also the definition of Ts, where we had to add the minus sign."
   ]
  },
  {
   "cell_type": "code",
   "execution_count": null,
   "metadata": {},
   "outputs": [],
   "source": []
  }
 ],
 "metadata": {
  "kernelspec": {
   "display_name": "meep_lab",
   "language": "python",
   "name": "python3"
  },
  "language_info": {
   "codemirror_mode": {
    "name": "ipython",
    "version": 3
   },
   "file_extension": ".py",
   "mimetype": "text/x-python",
   "name": "python",
   "nbconvert_exporter": "python",
   "pygments_lexer": "ipython3",
   "version": "3.11.7"
  }
 },
 "nbformat": 4,
 "nbformat_minor": 2
}
